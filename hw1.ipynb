{
 "cells": [
  {
   "cell_type": "markdown",
   "metadata": {},
   "source": [
    "Before you turn this problem in, make sure everything runs as expected. First, **restart the kernel** (in the menubar, select Kernel$\\rightarrow$Restart) and then **run all cells** (in the menubar, select Cell$\\rightarrow$Run All).\n",
    "\n",
    "Make sure you fill in any place that says `YOUR CODE HERE` or \"YOUR ANSWER HERE\", as well as your name and collaborators below:"
   ]
  },
  {
   "cell_type": "markdown",
   "metadata": {},
   "source": [
    "### Name: Calvin Zikakis\n",
    "Collaborators: Joe Wilson, Danny Niquette"
   ]
  },
  {
   "cell_type": "markdown",
   "metadata": {
    "deletable": false,
    "editable": false,
    "nbgrader": {
     "cell_type": "markdown",
     "checksum": "7bd6df7cd4271564f31f7484b5946a6a",
     "grade": false,
     "grade_id": "cell-a578bca3c2053e7c",
     "locked": true,
     "schema_version": 3,
     "solution": false,
     "task": false
    }
   },
   "source": [
    "# KNN and Perceptron Homework"
   ]
  },
  {
   "cell_type": "markdown",
   "metadata": {
    "deletable": false,
    "editable": false,
    "nbgrader": {
     "cell_type": "markdown",
     "checksum": "73ae4d725cad94f5acf6168f15c5e91f",
     "grade": false,
     "grade_id": "cell-bff7e2922ea0eafd",
     "locked": true,
     "schema_version": 3,
     "solution": false,
     "task": false
    }
   },
   "source": [
    "## Overview \n",
    "***\n",
    "\n",
    "\n",
    "In this homework you will implement a prototype-based k-NN and a Perceptron classifier. For the Perceptron classifier, you will implement the learning algorithm described in class.\n",
    "\n",
    "Here are the rules: \n",
    "\n",
    "- If you want to load a different Python library, you should check with the staff first (ask on Piazza).\n",
    "- Don't change function signatures / APIs. Be sure to add code only where \"your code here\" is listed. If you need additional scratch space, you can add code in the areas marked by `# scratch space`. \n",
    "- For the Math problems, you will enter your answer as a multiple choice response in a code cell block. Ensure you format your answer as described in the problem."
   ]
  },
  {
   "cell_type": "markdown",
   "metadata": {
    "deletable": false,
    "editable": false,
    "nbgrader": {
     "cell_type": "markdown",
     "checksum": "574e55784e50917e053514a7e287a0a9",
     "grade": false,
     "grade_id": "cell-96fcb7d368c0971c",
     "locked": true,
     "schema_version": 3,
     "solution": false,
     "task": false
    }
   },
   "source": [
    "### Linear Algebra - 10 points\n",
    "***\n",
    "Given matrix:\n",
    "\n",
    "$$\n",
    "\\begin{equation*}\n",
    "\\mathbf{A} = \\begin{bmatrix}2 & -1 & 0\\\\-1 & 2 & -1\\\\ 0 & -1 & 2\\end{bmatrix}\n",
    "\\end{equation*}\n",
    "$$\n",
    "\n",
    "Answer the following questions:\n",
    "\n",
    "**1.** Are the vectors $\\begin{equation*} \\mathbf{x} = \\begin{bmatrix}2\\\\-1\\\\0\\end{bmatrix}, \\mathbf{y} = \\begin{bmatrix}-1 \\\\ 2 \\\\ -1\\end{bmatrix}, \\mathbf{z} = \\begin{bmatrix}0 \\\\ -1 \\\\2\\end{bmatrix} \\end{equation*}$ linearly independent? Input answer should be \"yes\" or \"no\"."
   ]
  },
  {
   "cell_type": "code",
   "execution_count": 6,
   "metadata": {
    "deletable": false,
    "nbgrader": {
     "cell_type": "code",
     "checksum": "639cdeec1a911a887561c8ebf81c3037",
     "grade": false,
     "grade_id": "cell-02462d531ad133ce",
     "locked": false,
     "schema_version": 3,
     "solution": true,
     "task": false
    }
   },
   "outputs": [
    {
     "name": "stdout",
     "output_type": "stream",
     "text": [
      "Matrix([[1.00000000000000, 0.0, 0.0], [0.0, 1.00000000000000, 0.0], [0.0, 0.0, 1.00000000000000]]) \n",
      " Matrix in RREF \n",
      "\n",
      "1.00000000000000 Determinate of Matrix\n"
     ]
    }
   ],
   "source": [
    "import numpy as np\n",
    "import sympy as sp\n",
    "\n",
    "\n",
    "m = np.array(\n",
    "    [\n",
    "        [ 2, -1,  0],\n",
    "        [-1,  2, -1],\n",
    "        [ 0, -1,  2]\n",
    "    ]\n",
    ")\n",
    "\n",
    "m_rr = sp.Matrix(m).rref()\n",
    "\n",
    "m_rref = np.array(m_rr[0].tolist(), dtype=float)\n",
    "\n",
    "m_rref1 = sp.Matrix(m_rref)\n",
    "\n",
    "print(m_rref1, \"\\n Matrix in RREF \\n\")\n",
    "print(sp.det(m_rref1), \"Determinate of Matrix\")\n",
    "\n",
    "# Determinate is non-zero. Therefore it is linearly independent\n",
    "\n",
    "prob1_answer = \"yes\"\n"
   ]
  },
  {
   "cell_type": "code",
   "execution_count": null,
   "metadata": {
    "deletable": false,
    "editable": false,
    "nbgrader": {
     "cell_type": "code",
     "checksum": "fe0f60b1bc0606c2c38ec060a1a78575",
     "grade": true,
     "grade_id": "cell-f7ea97f7d7279016",
     "locked": true,
     "points": 2,
     "schema_version": 3,
     "solution": false,
     "task": false
    }
   },
   "outputs": [],
   "source": []
  },
  {
   "cell_type": "markdown",
   "metadata": {
    "deletable": false,
    "editable": false,
    "nbgrader": {
     "cell_type": "markdown",
     "checksum": "93251f87fcb2526367cfcf84692d8177",
     "grade": false,
     "grade_id": "cell-0c099f9d448838ee",
     "locked": true,
     "schema_version": 3,
     "solution": false,
     "task": false
    }
   },
   "source": [
    "**2.** Which of the following is an eigenvector of $\\mathbf{A}$? \n",
    "\n",
    "a. $\\begin{bmatrix}1\\\\-\\sqrt{2}\\\\1\\end{bmatrix}$\n",
    "\n",
    "b. $\\begin{bmatrix}1\\\\1\\\\1\\end{bmatrix}$\n",
    "\n",
    "c. $\\begin{bmatrix}1\\\\\\sqrt{2}\\\\-1\\end{bmatrix}$\n",
    "\n",
    "d. $\\begin{bmatrix}-1\\\\0\\\\1\\end{bmatrix}$\n",
    "\n",
    "Input your answer as either `\"a\"`, `\"b\"`, `\"c\"`, or `\"d\"`."
   ]
  },
  {
   "cell_type": "code",
   "execution_count": 7,
   "metadata": {
    "deletable": false,
    "nbgrader": {
     "cell_type": "code",
     "checksum": "3ff5a51ee007256a9c18d75c1e73bbaa",
     "grade": false,
     "grade_id": "cell-704e82c8d740ecec",
     "locked": false,
     "schema_version": 3,
     "solution": true,
     "task": false
    }
   },
   "outputs": [
    {
     "name": "stdout",
     "output_type": "stream",
     "text": [
      "[[-5.00000000e-01 -7.07106781e-01  5.00000000e-01]\n",
      " [ 7.07106781e-01  4.05405432e-16  7.07106781e-01]\n",
      " [-5.00000000e-01  7.07106781e-01  5.00000000e-01]]\n"
     ]
    },
    {
     "data": {
      "text/plain": [
       "[(2, 1, [Matrix([\n",
       "   [-1],\n",
       "   [ 0],\n",
       "   [ 1]])]), (2 - sqrt(2), 1, [Matrix([\n",
       "   [      1],\n",
       "   [sqrt(2)],\n",
       "   [      1]])]), (sqrt(2) + 2, 1, [Matrix([\n",
       "   [       1],\n",
       "   [-sqrt(2)],\n",
       "   [       1]])])]"
      ]
     },
     "execution_count": 7,
     "metadata": {},
     "output_type": "execute_result"
    }
   ],
   "source": [
    "prob2_answer = \"a\"\n",
    "\n",
    "import numpy as np\n",
    "import sympy as sp\n",
    "from numpy import linalg as LA\n",
    "\n",
    "m2 = np.array(\n",
    "    [\n",
    "        [ 2, -1,  0],\n",
    "        [-1,  2, -1],\n",
    "        [ 0, -1,  2]\n",
    "    ]\n",
    ")\n",
    "\n",
    "w, v = LA.eig(m2)\n",
    "print(v)\n",
    "\n",
    "m_sp = sp.Matrix(m2)\n",
    "\n",
    "\n",
    "m_sp.eigenvects()\n"
   ]
  },
  {
   "cell_type": "code",
   "execution_count": 8,
   "metadata": {
    "deletable": false,
    "editable": false,
    "nbgrader": {
     "cell_type": "code",
     "checksum": "d8f31c36e829353addbb49660dcd274b",
     "grade": true,
     "grade_id": "cell-ceb556988886af5b",
     "locked": true,
     "points": 0,
     "schema_version": 3,
     "solution": false,
     "task": false
    }
   },
   "outputs": [],
   "source": [
    "# Do not remove this cell."
   ]
  },
  {
   "cell_type": "markdown",
   "metadata": {
    "deletable": false,
    "editable": false,
    "nbgrader": {
     "cell_type": "markdown",
     "checksum": "ac3a208fc3571d980e11e73ef4bee994",
     "grade": false,
     "grade_id": "cell-6a3582e2aa226023",
     "locked": true,
     "schema_version": 3,
     "solution": false,
     "task": false
    }
   },
   "source": [
    "**3.** Let $M$ be any matrix with real entries. $M$ is *positive semidefinite* if, for any vector $x$ with real components, the dot product of $Mx$ and $x$ is nonnegative, $\\langle Mx, x \\rangle \\geq 0$\n",
    "\n",
    "Let $B = \\begin{bmatrix}1 & 2\\\\-2 & 1\\end{bmatrix}$. \n",
    "\n",
    "Is B positive semidefinite? Enter your answer as \"yes\" or \"no\".\n",
    "\n",
    "Hint: Write out the equation for $x^TBx$."
   ]
  },
  {
   "cell_type": "code",
   "execution_count": 9,
   "metadata": {
    "deletable": false,
    "nbgrader": {
     "cell_type": "code",
     "checksum": "18fbcdedd4b9d46e9739da9b7c433965",
     "grade": false,
     "grade_id": "cell-142bc67b4a5e17f0",
     "locked": false,
     "schema_version": 3,
     "solution": true,
     "task": false
    }
   },
   "outputs": [],
   "source": [
    "prob3_answer = \"yes\"\n",
    "\n",
    "\n",
    "# YOUR CODE HERE\n"
   ]
  },
  {
   "cell_type": "code",
   "execution_count": 10,
   "metadata": {
    "deletable": false,
    "editable": false,
    "nbgrader": {
     "cell_type": "code",
     "checksum": "657d5958410fc8c533ef44a1e84461fa",
     "grade": true,
     "grade_id": "cell-22892f3974b547bb",
     "locked": true,
     "points": 0,
     "schema_version": 3,
     "solution": false,
     "task": false
    }
   },
   "outputs": [],
   "source": [
    "# Do not remove this cell.\n"
   ]
  },
  {
   "cell_type": "markdown",
   "metadata": {
    "deletable": false,
    "editable": false,
    "nbgrader": {
     "cell_type": "markdown",
     "checksum": "b303723e8ec4031ffc3be7c0619ebf8b",
     "grade": false,
     "grade_id": "cell-a17ffab84d30b0ce",
     "locked": true,
     "schema_version": 3,
     "solution": false,
     "task": false
    }
   },
   "source": [
    "**4.** A *symmetric* matrix $H$ is positive semidefinite if and only if the eigenvalues of $H$ are all non-negative. Is matrix $A$ positive semidefinite? Why?"
   ]
  },
  {
   "cell_type": "code",
   "execution_count": 11,
   "metadata": {
    "deletable": false,
    "nbgrader": {
     "cell_type": "code",
     "checksum": "a97ea494d80033113d056b9eac990e19",
     "grade": false,
     "grade_id": "cell-3775748089655432",
     "locked": false,
     "schema_version": 3,
     "solution": true,
     "task": false
    }
   },
   "outputs": [],
   "source": [
    "prob4_answer = \"yes, because the eigenvalues are all non negative. 2, 2+2^1/2, 2-2^1/2\"\n",
    "\n"
   ]
  },
  {
   "cell_type": "code",
   "execution_count": null,
   "metadata": {
    "deletable": false,
    "nbgrader": {
     "cell_type": "code",
     "checksum": "08952379702d6e1238afaaf65e843db6",
     "grade": true,
     "grade_id": "cell-c81519366dec2095",
     "locked": false,
     "points": 0,
     "schema_version": 3,
     "solution": true,
     "task": false
    }
   },
   "outputs": [],
   "source": []
  },
  {
   "cell_type": "markdown",
   "metadata": {
    "deletable": false,
    "editable": false,
    "nbgrader": {
     "cell_type": "markdown",
     "checksum": "4f3713b79d424ab3773e4c02cc19ff4e",
     "grade": false,
     "grade_id": "cell-a62689f6aa4e82a8",
     "locked": true,
     "schema_version": 3,
     "solution": false,
     "task": false
    }
   },
   "source": [
    "### Prototype Based K-NN - 10 points\n",
    "\n",
    "In this problem you will implement a prototype-based k-NN classifier to take an image of a handwritten digit and predict the label of the digit."
   ]
  },
  {
   "cell_type": "code",
   "execution_count": 12,
   "metadata": {
    "ExecuteTime": {
     "end_time": "2018-09-05T19:32:36.377678Z",
     "start_time": "2018-09-05T19:32:36.079433Z"
    }
   },
   "outputs": [],
   "source": [
    "import numpy as np\n",
    "import matplotlib.pylab as plt\n",
    "import pickle\n",
    "import gzip\n",
    "from sklearn.datasets import fetch_openml, load_iris\n",
    "from sklearn.neighbors import KNeighborsClassifier\n",
    "%matplotlib inline"
   ]
  },
  {
   "cell_type": "code",
   "execution_count": 13,
   "metadata": {
    "ExecuteTime": {
     "end_time": "2018-09-04T06:10:34.575570Z",
     "start_time": "2018-09-04T06:10:34.559994Z"
    },
    "deletable": false,
    "editable": false,
    "nbgrader": {
     "cell_type": "code",
     "checksum": "75044d70601181e589824a27d750545e",
     "grade": false,
     "grade_id": "cell-b3c1f222df0753de",
     "locked": true,
     "schema_version": 3,
     "solution": false,
     "task": false
    }
   },
   "outputs": [],
   "source": [
    "# This cell downloads the mnist dataset, converts the labels to numeric\n",
    "# format, and splits into train/test. Do not modify. It may take 1-2 minutes\n",
    "# if the network connection is slow.\n",
    "\n",
    "class Numbers:\n",
    "    \"\"\"\n",
    "    Class to store MNIST data\n",
    "    \"\"\"\n",
    "    def __init__(self, location):\n",
    "        # store for use later  \n",
    "        X, y = fetch_openml('mnist_784', version=1, return_X_y=True)\n",
    "        \n",
    "        # Convert the labels to numeric labels\n",
    "        labels = ['0', '1', '2', '3', '4', '5', '6', '7', '8', '9']\n",
    "        for idx, l in enumerate(labels):\n",
    "            y[y == l] = idx\n",
    "        y = y.astype(np.int32)\n",
    "            \n",
    "                        \n",
    "        self.train_x, self.train_y = X[:50000,:], y[:50000]\n",
    "\n",
    "        self.test_x, self.test_y = X[60000:,:], y[60000:]\n",
    "        \n",
    "DATA_PATH = \"mnist.pklz\"\n",
    "data = Numbers(DATA_PATH)"
   ]
  },
  {
   "cell_type": "code",
   "execution_count": 14,
   "metadata": {
    "deletable": false,
    "editable": false,
    "nbgrader": {
     "cell_type": "code",
     "checksum": "3e5f2bed82c4a14c41997227cffed95d",
     "grade": false,
     "grade_id": "cell-ba43f2c2431b8870",
     "locked": true,
     "schema_version": 3,
     "solution": false,
     "task": false
    }
   },
   "outputs": [],
   "source": [
    "assert(data.train_x.dtype == np.float64)\n",
    "assert(data.train_y.dtype == np.int32)"
   ]
  },
  {
   "cell_type": "markdown",
   "metadata": {
    "deletable": false,
    "editable": false,
    "nbgrader": {
     "cell_type": "markdown",
     "checksum": "1e423f04ddd46dd202a3ecd9b17ce233",
     "grade": false,
     "grade_id": "cell-32fcacabd487da82",
     "locked": true,
     "schema_version": 3,
     "solution": false,
     "task": false
    }
   },
   "source": [
    "The class above will load and store the MNIST data.  Run the above cells then fill in\n",
    "the code in the immediate cell below to calculate: \n",
    "- The number of examples in the training set \n",
    "- The number of examples in the test set \n",
    "- The number of pixels in each image. "
   ]
  },
  {
   "cell_type": "code",
   "execution_count": 15,
   "metadata": {
    "ExecuteTime": {
     "end_time": "2018-09-04T06:10:36.651636Z",
     "start_time": "2018-09-04T06:10:36.647115Z"
    },
    "deletable": false,
    "nbgrader": {
     "cell_type": "code",
     "checksum": "10a626c7af0da46d1aaa25fe555ef201",
     "grade": false,
     "grade_id": "cell-01a6cfa458f80453",
     "locked": false,
     "schema_version": 3,
     "solution": true,
     "task": false
    }
   },
   "outputs": [],
   "source": [
    "# Here are the numbers you need to provide here:\n",
    "\n",
    "num_training_examples = data.train_x.shape[0]\n",
    "num_test_examples = data.test_x.shape[0]\n",
    "pixels_per_image = data.test_x.shape[1]\n",
    "\n",
    "\n",
    "# Here are the numbers you need to provide here\n",
    "\n"
   ]
  },
  {
   "cell_type": "code",
   "execution_count": 16,
   "metadata": {
    "ExecuteTime": {
     "end_time": "2018-09-04T06:10:36.876370Z",
     "start_time": "2018-09-04T06:10:36.687342Z"
    },
    "deletable": false,
    "editable": false,
    "nbgrader": {
     "cell_type": "code",
     "checksum": "8ac248a824ae0bcfafd271cfbaf2b994",
     "grade": true,
     "grade_id": "cell-dc58551ad175bf76",
     "locked": true,
     "points": 1,
     "schema_version": 3,
     "solution": false,
     "task": false
    }
   },
   "outputs": [],
   "source": [
    "# Do not remove this cell.\n"
   ]
  },
  {
   "cell_type": "markdown",
   "metadata": {
    "deletable": false,
    "editable": false,
    "nbgrader": {
     "cell_type": "markdown",
     "checksum": "e4b41a24ec343daa3847c035470deca4",
     "grade": false,
     "grade_id": "cell-09d87c308a59dd08",
     "locked": true,
     "schema_version": 3,
     "solution": false,
     "task": false
    }
   },
   "source": [
    "### Dataset Exloration\n",
    "\n",
    "In the cell below, write some code to explore the data. For example, you might plot the number of examples for each class (0-9) as a histogram. A desireable property of a dataset is for it to have a roughly balanced number of examples per class."
   ]
  },
  {
   "cell_type": "code",
   "execution_count": 17,
   "metadata": {
    "deletable": false,
    "nbgrader": {
     "cell_type": "code",
     "checksum": "3749a21037c82437f4f74b363a7deb77",
     "grade": true,
     "grade_id": "cell-11c0dfd313ba76e0",
     "locked": false,
     "points": 1,
     "schema_version": 3,
     "solution": true,
     "task": false
    }
   },
   "outputs": [
    {
     "data": {
      "text/plain": [
       "Text(0.5, 1.0, 'Data points')"
      ]
     },
     "execution_count": 17,
     "metadata": {},
     "output_type": "execute_result"
    },
    {
     "data": {
      "image/png": "[encoded data removed]",
      "text/plain": [
       "<Figure size 432x288 with 1 Axes>"
      ]
     },
     "metadata": {
      "needs_background": "light"
     },
     "output_type": "display_data"
    }
   ],
   "source": [
    "# Write your exploration code here (scratch space)\n",
    "\n",
    "fig, ax = plt.subplots()\n",
    "\n",
    "bins = np.arange(0,11,1)-.5\n",
    "\n",
    "data1 = np.concatenate((data.train_y, data.test_y),axis=0)\n",
    "\n",
    "ax.hist(data1,bins=bins, edgecolor=\"white\", color=\"lightblue\")\n",
    "\n",
    "ax.set_xlabel(\"Numbers\")\n",
    "ax.set_ylabel(\"Amounts\")\n",
    "ax.set_title(\"Data points\")\n"
   ]
  },
  {
   "cell_type": "markdown",
   "metadata": {
    "deletable": false,
    "editable": false,
    "nbgrader": {
     "cell_type": "markdown",
     "checksum": "193970dcf9d82e1f6ba16f149831604f",
     "grade": false,
     "grade_id": "cell-f7e78e2af88f0c60",
     "locked": true,
     "schema_version": 3,
     "solution": false,
     "task": false
    }
   },
   "source": [
    "The cells below build a K-Nearest Neighbor classification on the handwritten digit data similar to how we explored KNN for the Iris dataset in our in-class notebooks. However, we will introduce a second parameter besides `k`. Instead of running the nearest-neighbor search on the whole dataset, which would be computationally intensive, we will select a subset of points called \"prototypes\" to conduct the nearest neighbor search. We will explore the effect of `k` and `p` on performance.\n",
    "\n",
    "Follow the prompts and implement the following functions. We provide some \"sanity check\" tests, but these tests are not exhaustive. You can write additional code to check your functions in the scratch space. Your code will be tested against other test cases which are hidden."
   ]
  },
  {
   "cell_type": "markdown",
   "metadata": {
    "deletable": false,
    "editable": false,
    "nbgrader": {
     "cell_type": "markdown",
     "checksum": "6221f7554311b3b776665eefffeb2cf9",
     "grade": false,
     "grade_id": "cell-532e1175145d036d",
     "locked": true,
     "schema_version": 3,
     "solution": false,
     "task": false
    }
   },
   "source": [
    "1. Write the function `select_prototypes` that selects prototype examples randomly from a dataset.\n",
    "\n",
    "Hint/warning: If you use the `np.random.choice function`, be sure to inspect the `replace` argument."
   ]
  },
  {
   "cell_type": "code",
   "execution_count": 18,
   "metadata": {
    "ExecuteTime": {
     "end_time": "2018-09-04T06:10:43.207648Z",
     "start_time": "2018-09-04T06:10:43.185935Z"
    },
    "code_folding": [
     79
    ],
    "deletable": false,
    "nbgrader": {
     "cell_type": "code",
     "checksum": "33c6ce37c02840b675a865fde1bcc58a",
     "grade": false,
     "grade_id": "cell-790b1a66da53b47f",
     "locked": false,
     "schema_version": 3,
     "solution": true,
     "task": false
    }
   },
   "outputs": [],
   "source": [
    "def select_prototypes(X_train, y_train, num_prototypes : int):\n",
    "    '''\n",
    "    Given a matrix X_train and y_train,\n",
    "    return two matrixes X_train_proto and y_train_proto\n",
    "    that contain a subset of the data given (a subset of the rows),\n",
    "    where the subset is of size num_prototypes.\n",
    "    \n",
    "    Note that you must use the same subset indices for X_train and y_train\n",
    "    \n",
    "    Args: X_train (np.ndarray) - the dataset (training data)\n",
    "          y_train (np.ndarray) - the dataset (labels)\n",
    "          num_prototypes (int)\n",
    "          \n",
    "    Returns: \n",
    "          X_train_proto (np.ndarray) a subset of the dataset rows\n",
    "          y_train_proto (np.ndarray) a subset of the labels\n",
    "    '''\n",
    "    X_train_proto = []\n",
    "    y_train_proto = []\n",
    "    \n",
    "    indices = np.arange(0, len(X_train), 1)\n",
    "    \n",
    "    for i in range(num_prototypes):\n",
    "        x = np.random.choice(indices, replace=False)\n",
    "\n",
    "        X_train_proto.append(X_train[x])\n",
    "        y_train_proto.append(y_train[x])\n",
    "            \n",
    "        \n",
    "    return np.array(X_train_proto), np.array(y_train_proto)\n",
    "\n",
    "# scratch space"
   ]
  },
  {
   "cell_type": "code",
   "execution_count": 19,
   "metadata": {
    "deletable": false,
    "editable": false,
    "nbgrader": {
     "cell_type": "code",
     "checksum": "5230841564e85cbbd7ef489ea6c164f1",
     "grade": true,
     "grade_id": "cell-ac275efff702585b",
     "locked": true,
     "points": 1,
     "schema_version": 3,
     "solution": false,
     "task": false
    }
   },
   "outputs": [],
   "source": [
    "test_X = np.array([[1,2],[3,4]])\n",
    "test_Y = np.array([1, -1])\n",
    "X_test_proto, y_test_proto = select_prototypes(test_X, test_Y, 1)\n",
    "assert( type(X_test_proto) == np.ndarray )\n",
    "assert( type(y_test_proto) == np.ndarray)\n",
    "assert( X_test_proto.shape[0] == 1)\n",
    "assert( y_test_proto.shape[0] == 1)"
   ]
  },
  {
   "cell_type": "markdown",
   "metadata": {
    "deletable": false,
    "editable": false,
    "nbgrader": {
     "cell_type": "markdown",
     "checksum": "462736b0765e7cfd4cc6f0d9b392c56c",
     "grade": false,
     "grade_id": "cell-ee6d419cf9950eb2",
     "locked": true,
     "schema_version": 3,
     "solution": false,
     "task": false
    }
   },
   "source": [
    "2. Write the build_model function, which returns a KNeighborsClassifier from Scikit-Learn. This is similar to what we did in class, except we should also use the `select_protytpes` function. \n",
    "\n",
    "For full points you must:\n",
    "\n",
    "a. **Use the select_prototypes function on the input X_train and y_train**\n",
    "\n",
    "b. **Use the ball tree algorithm for your KNeighborsClassifier**"
   ]
  },
  {
   "cell_type": "code",
   "execution_count": 20,
   "metadata": {
    "deletable": false,
    "nbgrader": {
     "cell_type": "code",
     "checksum": "dba18fc1abab341018c38b385c09c566",
     "grade": false,
     "grade_id": "cell-37ba0fb3b8aa8721",
     "locked": false,
     "schema_version": 3,
     "solution": true,
     "task": false
    }
   },
   "outputs": [],
   "source": [
    "\n",
    "def build_model(X_train : np.ndarray, y_train : np.ndarray, \n",
    "                num_neighbors: int, num_prototypes : int):\n",
    "    '''\n",
    "    Builds and returns a KNearestClassifier model, the model \n",
    "    \n",
    "    (Use your select_prototypes function in this function)\n",
    "     \n",
    "    Args:\n",
    "        X_train: (np.ndarray) the data to fit\n",
    "        y_train: (np.ndarray) the labels\n",
    "        num_neighbors: (int) the number of nearest neighbors\n",
    "        num_prototypes: (int) the number of prototypes\n",
    "        \n",
    "    Returns:\n",
    "        knn_model - KNeighborsClassifier, fitted to the prototypes\n",
    "        X_train_proto - (np.ndarray) the new prototype data points\n",
    "        y_train_proto - (np.ndarray) the new prototype labels\n",
    "    '''\n",
    "    knn_model = KNeighborsClassifier(n_neighbors=num_neighbors, algorithm='ball_tree')\n",
    "    X_train_proto, y_train_proto = select_prototypes(X_train, y_train, num_prototypes)\n",
    "    \n",
    "    knn_model.fit(X_train_proto, y_train_proto)\n",
    "    return knn_model, X_train_proto, y_train_proto\n",
    "\n",
    "\n",
    "# scratch space"
   ]
  },
  {
   "cell_type": "markdown",
   "metadata": {
    "deletable": false,
    "editable": false,
    "nbgrader": {
     "cell_type": "markdown",
     "checksum": "155ab692ac88cc4f52d02b046b5c6a11",
     "grade": false,
     "grade_id": "cell-14632870ad87c929",
     "locked": true,
     "schema_version": 3,
     "solution": false,
     "task": false
    }
   },
   "source": [
    "3. Write the `get_confusion_matrix` function. \n",
    "\n",
    "**You must calculate the confusion matrix manually (using Numpy functions) rather than using the Scikit-Learn confusion matrix function. You will get zero-points if you use the Scikit-Learn function.**"
   ]
  },
  {
   "cell_type": "code",
   "execution_count": 21,
   "metadata": {
    "deletable": false,
    "nbgrader": {
     "cell_type": "code",
     "checksum": "1f8d934c8508bb8afb03e7cb33a58a40",
     "grade": false,
     "grade_id": "cell-02a604b62331b387",
     "locked": false,
     "schema_version": 3,
     "solution": true,
     "task": false
    }
   },
   "outputs": [],
   "source": [
    "\n",
    "def get_confusion_matrix(y_true : np.ndarray, \n",
    "                         y_predicted : np.ndarray, \n",
    "                         classes : np.ndarray):\n",
    "    '''\n",
    "    Args:\n",
    "        y_true: numpy array, true labels of the data set\n",
    "        y_predicted: numpy array, predicted labels on the same dataset as the true labels\n",
    "        classes: numpy array containing the classes (in the case of mnist, this is \n",
    "                  a vector of numbers from 0 to 9). this must be a 1-dimensional vector.\n",
    "    \n",
    "    Build the confusion matrix from scratch (without using the version\n",
    "    provided by Sk-learn)\n",
    "    \n",
    "    Returns:\n",
    "    \n",
    "        conf_matrix : (np.ndarray) the calculated confusion matrix\n",
    "    \n",
    "    \n",
    "    Hint: Easiest way is to use two nested for-loops\n",
    "    '''\n",
    "    conf_matrix = np.zeros((classes.shape[0], classes.shape[0]))\n",
    "    \n",
    "    for step, true_val in enumerate(y_true):\n",
    "        conf_matrix[true_val][y_predicted[step]] +=1\n",
    "        \n",
    "    return conf_matrix\n",
    "\n",
    "# scratch space"
   ]
  },
  {
   "cell_type": "code",
   "execution_count": 22,
   "metadata": {
    "deletable": false,
    "editable": false,
    "nbgrader": {
     "cell_type": "code",
     "checksum": "0a7b9bd597b9a0eed699132b6af088fe",
     "grade": true,
     "grade_id": "cell-3fd5bd146b963476",
     "locked": true,
     "points": 1,
     "schema_version": 3,
     "solution": false,
     "task": false
    }
   },
   "outputs": [],
   "source": [
    "true_y = np.array([0, 0, 1, 2, 3, 4, 4])\n",
    "pred_y = np.array([0,1,1,3,3,5,5])\n",
    "classes = np.array([0,1,2,3,4,5])\n",
    "conf_matrix = get_confusion_matrix(true_y, pred_y, classes)\n",
    "\n",
    "assert(type(conf_matrix)==np.ndarray)\n",
    "assert((conf_matrix.shape[0] == conf_matrix.shape[1] == 6))\n",
    "assert(conf_matrix[5,:].sum() == 0)\n",
    "assert(conf_matrix[4,5] == 2)"
   ]
  },
  {
   "cell_type": "code",
   "execution_count": 23,
   "metadata": {
    "deletable": false,
    "nbgrader": {
     "cell_type": "code",
     "checksum": "47e0379febff2c1e80c1093f89313099",
     "grade": false,
     "grade_id": "cell-9eed358df801cfdf",
     "locked": false,
     "schema_version": 3,
     "solution": true,
     "task": false
    }
   },
   "outputs": [],
   "source": [
    "def get_accuracy(confusion_matrix : np.ndarray):\n",
    "    '''\n",
    "    Args:\n",
    "        confusion_matrix : (np.ndarray) output of get_confusion_matrix\n",
    "    Returns:\n",
    "        The accuracy of your classifier (Numpy float)\n",
    "    '''\n",
    "    top = confusion_matrix.diagonal().sum()\n",
    "    bot = confusion_matrix.sum()\n",
    "    \n",
    "    \n",
    "    \n",
    "    \n",
    "    return top/bot\n",
    "\n",
    "# Scratch space"
   ]
  },
  {
   "cell_type": "code",
   "execution_count": 24,
   "metadata": {
    "deletable": false,
    "editable": false,
    "nbgrader": {
     "cell_type": "code",
     "checksum": "16ff36b27a7b4f4cf673a09787e3cf9a",
     "grade": true,
     "grade_id": "cell-236e768d1ee57b2c",
     "locked": true,
     "points": 1,
     "schema_version": 3,
     "solution": false,
     "task": false
    }
   },
   "outputs": [],
   "source": [
    "test_matrix1 = np.array([[1,0,1],[0, 2, 0], [0,0,1]])\n",
    "test_matrix2 = np.array([[0,0,0],[0,1,0], [0,0,5]])\n",
    "assert(get_accuracy(test_matrix1) == .8)\n",
    "assert(get_accuracy(test_matrix2) == 1)\n",
    "assert(type(get_accuracy(test_matrix1))==np.float64)"
   ]
  },
  {
   "cell_type": "code",
   "execution_count": 25,
   "metadata": {
    "ExecuteTime": {
     "end_time": "2018-09-04T06:10:44.049060Z",
     "start_time": "2018-09-04T06:10:43.565424Z"
    },
    "deletable": false,
    "editable": false,
    "nbgrader": {
     "cell_type": "code",
     "checksum": "fda9c4ce0d76c76d5ace7c6d825b26c1",
     "grade": true,
     "grade_id": "cell-4dd72ddb75bb6335",
     "locked": true,
     "points": 1,
     "schema_version": 3,
     "solution": false,
     "task": false
    }
   },
   "outputs": [],
   "source": [
    "# Do not delete this cell.\n"
   ]
  },
  {
   "cell_type": "markdown",
   "metadata": {
    "ExecuteTime": {
     "start_time": "2018-09-02T20:12:05.295Z"
    },
    "deletable": false,
    "editable": false,
    "nbgrader": {
     "cell_type": "markdown",
     "checksum": "d752b7cfb25a1b0ebbf2ca93fc5815e2",
     "grade": false,
     "grade_id": "cell-fd97b17753e34efa",
     "locked": true,
     "schema_version": 3,
     "solution": false,
     "task": false
    },
    "scrolled": false
   },
   "source": [
    "### k-NN Analysis\n",
    "\n",
    "We will now use our k-NN classifier on the MNIST dataset that we loaded above. We will explore the relationship between the test accuracy and:\n",
    "\n",
    "1. The number of training examples (before selecting prototypes)\n",
    "2. The number of nearest neighbors ($k$)\n",
    "3. The number of prototypes ($p$)\n",
    "\n"
   ]
  },
  {
   "cell_type": "markdown",
   "metadata": {
    "deletable": false,
    "editable": false,
    "nbgrader": {
     "cell_type": "markdown",
     "checksum": "9e9564511de034f7d1d9eb062ee80c05",
     "grade": false,
     "grade_id": "cell-c22e5ae584e045a9",
     "locked": true,
     "schema_version": 3,
     "solution": false,
     "task": false
    }
   },
   "source": [
    "**Part A:** Suppose we fix the number of prototypes, $p$ to be to 1000 and $k=10$. However, let us also suppose that our original dataset was a different size. Fill in the function below that repeatedly builds your model using a subset of the training data (keeping the number of prototypes fixed to be `1000`. Your subsets of the training datashould be of size 20%, 40%, 60%, 80%, and 100% (this is filled in for you).  Then, fill in the next cell to produce a plot that shows the trend exploring the performance.\n",
    "\n",
    "Note that the code builds a dictionary `performance_dict` with the following format:\n",
    "```\n",
    "{\n",
    "  [number of training examples]: [test set accuracy] (in decimal format)\n",
    "}\n",
    "```"
   ]
  },
  {
   "cell_type": "code",
   "execution_count": 26,
   "metadata": {
    "deletable": false,
    "nbgrader": {
     "cell_type": "code",
     "checksum": "8b5b0279cdcdfd5af197d281eb368175",
     "grade": true,
     "grade_id": "cell-a1c50580275e55fc",
     "locked": false,
     "points": 2,
     "schema_version": 3,
     "solution": true,
     "task": false
    }
   },
   "outputs": [
    {
     "name": "stdout",
     "output_type": "stream",
     "text": [
      "k: 10, p: 500, training set size: 500.0, Accuracy : 77.57\n",
      "k: 10, p: 500, training set size: 2500.0, Accuracy : 80.67999999999999\n",
      "k: 10, p: 500, training set size: 5000.0, Accuracy : 81.16\n",
      "k: 10, p: 500, training set size: 10000.0, Accuracy : 81.54\n",
      "k: 10, p: 500, training set size: 20000.0, Accuracy : 80.58999999999999\n",
      "k: 10, p: 500, training set size: 40000.0, Accuracy : 80.12\n",
      "k: 10, p: 500, training set size: 50000.0, Accuracy : 83.03\n"
     ]
    }
   ],
   "source": [
    "training_percents = np.array([0.01, 0.05, 0.1, 0.2, 0.4, 0.8, 1.0])\n",
    "k = 10\n",
    "num_proto = 500\n",
    "performance_dict = {}\n",
    "original_size = data.train_x.shape[0] \n",
    "\n",
    "for trng_percent in training_percents:\n",
    "    subset_size = trng_percent * original_size\n",
    "    X_train, y_train = select_prototypes(data.train_x, data.train_y,int(subset_size))\n",
    "    knn, X_proto, y_proto= build_model(X_train, y_train, k, num_proto)\n",
    "    y_predict = knn.predict(data.test_x)\n",
    "    y_true = data.test_y\n",
    "    classes = np.array([0,1,2,3,4,5,6,7,8,9])\n",
    "    conf_matrix = get_confusion_matrix(y_true, y_predict, classes)\n",
    "    performance_dict[trng_percent] = get_accuracy(conf_matrix)\n",
    "    \n",
    "    print (\"k: {}, p: {}, training set size: {}, Accuracy : {}\".format(k, num_proto, subset_size,\n",
    "                                                                       100 * performance_dict[trng_percent]))"
   ]
  },
  {
   "cell_type": "code",
   "execution_count": 27,
   "metadata": {
    "deletable": false,
    "nbgrader": {
     "cell_type": "code",
     "checksum": "0a4d7effd436e7feb93d3c525a47a8aa",
     "grade": true,
     "grade_id": "cell-b7bc115a7c5d28cc",
     "locked": false,
     "points": 2,
     "schema_version": 3,
     "solution": true,
     "task": false
    }
   },
   "outputs": [
    {
     "data": {
      "text/plain": [
       "Text(0, 0.5, 'Accuracy')"
      ]
     },
     "execution_count": 27,
     "metadata": {},
     "output_type": "execute_result"
    },
    {
     "data": {
      "image/png": "[encoded data removed]",
      "text/plain": [
       "<Figure size 432x288 with 1 Axes>"
      ]
     },
     "metadata": {
      "needs_background": "light"
     },
     "output_type": "display_data"
    }
   ],
   "source": [
    "# Plot your graph exploring the relationship between the training set size and performance for k=10, p=1000.\n",
    "# Remember that the following things are required for each graph: x/y axes labels, title, legend (if multiple data \n",
    "# series)\n",
    "\n",
    "\n",
    "# YOUR CODE HERE\n",
    "fig, ax = plt.subplots(1,1)\n",
    "ax.plot(list(performance_dict.keys()), list(performance_dict.values()))\n",
    "\n",
    "ax.set_title(\"Accuracy Vs Training size\")\n",
    "ax.set_xlabel(\"Training Percent\")\n",
    "ax.set_ylabel(\"Accuracy\")"
   ]
  },
  {
   "cell_type": "markdown",
   "metadata": {
    "deletable": false,
    "nbgrader": {
     "cell_type": "markdown",
     "checksum": "8575904debf4fa64d98f5662736c113a",
     "grade": true,
     "grade_id": "cell-c21f0ed0cc6822a5",
     "locked": false,
     "points": 2,
     "schema_version": 3,
     "solution": true,
     "task": false
    }
   },
   "source": [
    "Write your analysis here (2-3 sentances). No more than a short paragraph.\n",
    "\n",
    "Our training percent does not appear to have an apparent effect on our accuracy. Our data shows no visiable trend when when the training size is varried. This is probably due to using accuracy as a measure. "
   ]
  },
  {
   "cell_type": "markdown",
   "metadata": {
    "deletable": false,
    "editable": false,
    "nbgrader": {
     "cell_type": "markdown",
     "checksum": "f599cc38617b970f58def577a4da3fcf",
     "grade": false,
     "grade_id": "cell-35c705a873e2fd4f",
     "locked": true,
     "schema_version": 3,
     "solution": false,
     "task": false
    }
   },
   "source": [
    "**Part B:** Now suppose we use the entire training set to fit the classifier, and still fix $p=1000$. Explore the relationship between the number of nearest neighbors ($k$) and accuracy on the test set.\n",
    "\n",
    "The procedure is the same as part A: Fill in the code to build and test the models, fill in the code to plot the graph, then write your explanation/analysis."
   ]
  },
  {
   "cell_type": "code",
   "execution_count": 28,
   "metadata": {
    "deletable": false,
    "nbgrader": {
     "cell_type": "code",
     "checksum": "929ff454d57c856c7d6c986ef143c000",
     "grade": true,
     "grade_id": "cell-c9ac903b4f95624c",
     "locked": false,
     "points": 2,
     "schema_version": 3,
     "solution": true,
     "task": false
    }
   },
   "outputs": [
    {
     "name": "stdout",
     "output_type": "stream",
     "text": [
      "k: 1, p: 1000, Accuracy : 88.27000000000001\n",
      "k: 5, p: 1000, Accuracy : 87.92\n",
      "k: 11, p: 1000, Accuracy : 85.34\n",
      "k: 21, p: 1000, Accuracy : 83.33\n",
      "k: 41, p: 1000, Accuracy : 77.8\n",
      "k: 81, p: 1000, Accuracy : 74.33\n"
     ]
    }
   ],
   "source": [
    "k_vals = [1, 5, 11, 21, 41, 81]\n",
    "num_proto = 1000\n",
    "performance_dict = {}\n",
    "\n",
    "\n",
    "for k in k_vals:\n",
    "\n",
    "    knn, x_proto, y_proto = build_model(X_train, y_train, k, num_proto)\n",
    "    y_predict = knn.predict(data.test_x)\n",
    "    y_true = data.test_y\n",
    "    classes = np.array([0,1,2,3,4,5,6,7,8,9])\n",
    "    conf_matrix = get_confusion_matrix(y_true, y_predict, classes)\n",
    "    performance_dict[k] = get_accuracy(conf_matrix)\n",
    "\n",
    "    \n",
    "    print (\"k: {}, p: {}, Accuracy : {}\".format(k, num_proto, 100 * performance_dict[k]))"
   ]
  },
  {
   "cell_type": "code",
   "execution_count": 29,
   "metadata": {
    "deletable": false,
    "nbgrader": {
     "cell_type": "code",
     "checksum": "6f37f86701a730ae91f791a78a053ae5",
     "grade": true,
     "grade_id": "cell-180233bf02c0504b",
     "locked": false,
     "points": 0,
     "schema_version": 3,
     "solution": true,
     "task": false
    }
   },
   "outputs": [
    {
     "data": {
      "text/plain": [
       "Text(0, 0.5, 'Accuracy')"
      ]
     },
     "execution_count": 29,
     "metadata": {},
     "output_type": "execute_result"
    },
    {
     "data": {
      "image/png": "[encoded data removed]",
      "text/plain": [
       "<Figure size 432x288 with 1 Axes>"
      ]
     },
     "metadata": {
      "needs_background": "light"
     },
     "output_type": "display_data"
    }
   ],
   "source": [
    "# Plot your graph exploring the relationship between the training set size and performance for k=10, p=1000.\n",
    "# Remember that the following things are required for each graph: x/y axes labels, title, legend (if multiple data \n",
    "# series)\n",
    "\n",
    "fig, ax = plt.subplots(1,1)\n",
    "ax.plot(list(performance_dict.keys()), list(performance_dict.values()))\n",
    "\n",
    "ax.set_title(\"Accuracy Vs K_Value\")\n",
    "ax.set_xlabel(\"K_value\")\n",
    "ax.set_ylabel(\"Accuracy\")\n"
   ]
  },
  {
   "cell_type": "markdown",
   "metadata": {
    "deletable": false,
    "nbgrader": {
     "cell_type": "markdown",
     "checksum": "6341020c3a80d6c772aa0e6b70cdee00",
     "grade": true,
     "grade_id": "cell-7628914743939768",
     "locked": false,
     "points": 0,
     "schema_version": 3,
     "solution": true,
     "task": false
    }
   },
   "source": [
    "Write your analysis here (2-3 sentances). No more than a short paragraph. Include in your analysis some reasoning for $k$'s effect on the trend of the graph.\n",
    "\n",
    "Our accurracy falls as our K value increases here. There is a definite downwards slope that would most likely continue it's trend. I believe this is due to oversaturation. "
   ]
  },
  {
   "cell_type": "markdown",
   "metadata": {
    "deletable": false,
    "editable": false,
    "nbgrader": {
     "cell_type": "markdown",
     "checksum": "94d21c158b12d7c1cdf986558febaa56",
     "grade": false,
     "grade_id": "cell-64fbb8422d401efe",
     "locked": true,
     "schema_version": 3,
     "solution": false,
     "task": false
    }
   },
   "source": [
    "**Part C**: Now we fix $k=10$ and explore the relationship between the values of $p$ and performance.\n",
    "\n",
    "The procedure is the same as part A: Fill in the code to build and test the models, fill in the code to plot the graph, then write your explanation/analysis.\n",
    "\n",
    "(Note that for your own testing, you can try arbitray list of `p_vals` below. But when you turn this notebook in, p_vals should be set to the original values:\n",
    "```\n",
    "p_vals = [10, 100, 500, 1000]\n",
    "```"
   ]
  },
  {
   "cell_type": "code",
   "execution_count": 30,
   "metadata": {
    "deletable": false,
    "nbgrader": {
     "cell_type": "code",
     "checksum": "850047e1042878cf8d49ca6ff2459533",
     "grade": true,
     "grade_id": "cell-c9ac903b4f95624c123",
     "locked": false,
     "points": 2,
     "schema_version": 3,
     "solution": true,
     "task": false
    }
   },
   "outputs": [
    {
     "name": "stdout",
     "output_type": "stream",
     "text": [
      "k: 10, p: 10, Accuracy : 10.100000000000001\n",
      "k: 10, p: 100, Accuracy : 57.410000000000004\n",
      "k: 10, p: 500, Accuracy : 79.23\n",
      "k: 10, p: 1000, Accuracy : 86.53\n"
     ]
    }
   ],
   "source": [
    "p_vals = [10, 100, 500, 1000]\n",
    "k = 10\n",
    "performance_dict = {}\n",
    "\n",
    "for num_proto in p_vals:\n",
    "    \n",
    "    \n",
    "    knn, x_proto, y_proto = build_model(X_train, y_train, k, num_proto)\n",
    "    y_predict = knn.predict(data.test_x)\n",
    "    y_true = data.test_y\n",
    "    classes = np.array([0,1,2,3,4,5,6,7,8,9])\n",
    "    conf_matrix = get_confusion_matrix(y_true, y_predict, classes)\n",
    "    performance_dict[num_proto] = get_accuracy(conf_matrix)\n",
    "\n",
    "    print (\"k: {}, p: {}, Accuracy : {}\".format(k, num_proto,\n",
    "            100 * performance_dict[num_proto]))"
   ]
  },
  {
   "cell_type": "code",
   "execution_count": 31,
   "metadata": {
    "deletable": false,
    "nbgrader": {
     "cell_type": "code",
     "checksum": "c54f423021731d50feb7d0cd6e46f977",
     "grade": true,
     "grade_id": "cell-180233bf02c0504b33123",
     "locked": false,
     "points": 1,
     "schema_version": 3,
     "solution": true,
     "task": false
    }
   },
   "outputs": [
    {
     "data": {
      "text/plain": [
       "Text(0, 0.5, 'Accuracy')"
      ]
     },
     "execution_count": 31,
     "metadata": {},
     "output_type": "execute_result"
    },
    {
     "data": {
      "image/png": "[encoded data removed]",
      "text/plain": [
       "<Figure size 432x288 with 1 Axes>"
      ]
     },
     "metadata": {
      "needs_background": "light"
     },
     "output_type": "display_data"
    }
   ],
   "source": [
    "# Plot your graph exploring the relationship between the number of prototypes and test set performance for k=10\n",
    "\n",
    "fig, ax = plt.subplots(1,1)\n",
    "ax.plot(list(performance_dict.keys()), list(performance_dict.values()))\n",
    "\n",
    "ax.set_title(\"Accuracy Vs P_Value\")\n",
    "ax.set_xlabel(\"P_value\")\n",
    "ax.set_ylabel(\"Accuracy\")\n"
   ]
  },
  {
   "cell_type": "markdown",
   "metadata": {
    "deletable": false,
    "nbgrader": {
     "cell_type": "markdown",
     "checksum": "bb2b3bca1449ffac8f1ac81bb6c15284",
     "grade": true,
     "grade_id": "cell-7628914743939768123124233",
     "locked": false,
     "points": 1,
     "schema_version": 3,
     "solution": true,
     "task": false
    }
   },
   "source": [
    "Write your analysis here (2-3 sentances). No more than a short paragraph.\n",
    "\n",
    "Be sure to comment on any tradeoffs (between complexity, performance, etc.) if any.\n",
    "\n",
    "\n",
    "Here we can see a defenite trend towards more accuracy with an increased P-value. Our preformance increased hugely by only changing the p value by a factor of 100. "
   ]
  },
  {
   "cell_type": "markdown",
   "metadata": {},
   "source": [
    "### Perceptron - 10 points\n",
    "***\n",
    "Consider the IRIS dataset discussed in lecture. We have created a binary classification problem to determine whether a given flower is a setosa or not. To create this, we pre-processed the labels to create a label vector where setosa’s label is unchanged (i.e. its label is 1), but both versicolor and virginica are now labeled as -1. The data contains two out of the four attributes, petal width and petal length. This training data and the modified labels can be loaded using `IrisM` class. We are going to use this dataset for training a Perceptron classifier in subsequent problems. "
   ]
  },
  {
   "cell_type": "code",
   "execution_count": 32,
   "metadata": {
    "deletable": false,
    "editable": false,
    "nbgrader": {
     "cell_type": "code",
     "checksum": "d9d945b813d084c32ed4fa1dcdabac20",
     "grade": false,
     "grade_id": "cell-250418f609834fd3",
     "locked": true,
     "schema_version": 3,
     "solution": false,
     "task": false
    }
   },
   "outputs": [],
   "source": [
    "# We are setting the PRN seed for repeatability - do not change this cell.\n",
    "np.random.seed(12345)"
   ]
  },
  {
   "cell_type": "code",
   "execution_count": 33,
   "metadata": {
    "ExecuteTime": {
     "end_time": "2018-09-05T19:32:43.557396Z",
     "start_time": "2018-09-05T19:32:43.542185Z"
    },
    "deletable": false,
    "editable": false,
    "nbgrader": {
     "cell_type": "code",
     "checksum": "9fec9d3aa57afeffdc90320bf9e0a506",
     "grade": false,
     "grade_id": "cell-b0d07b89c5ccb378",
     "locked": true,
     "schema_version": 3,
     "solution": false,
     "task": false
    }
   },
   "outputs": [],
   "source": [
    "class IrisM:\n",
    "    \"\"\"\n",
    "    Class to store modified iris data for Perceptron Training\n",
    "    \"\"\"\n",
    "    \n",
    "    def __init__(self):\n",
    "        iris = load_iris()\n",
    "        \n",
    "        # only taking first two features\n",
    "        X = iris.data[:, :2]\n",
    "        y = iris.target[:]\n",
    "        \n",
    "        # only considering whether it is setosa or not\n",
    "        y[iris.target != 0] = -1\n",
    "        y[iris.target == 0] = 1\n",
    "        mask = np.random.choice(a = [False, True], size = 150, p = (0.66, 1 - 0.66))\n",
    "        \n",
    "        self.train_x, self.train_y = X[mask], y[mask]\n",
    "        self.test_x, self.test_y = X[~mask], y[~mask]\n",
    "\n",
    "iris = IrisM()"
   ]
  },
  {
   "cell_type": "markdown",
   "metadata": {
    "deletable": false,
    "editable": false,
    "nbgrader": {
     "cell_type": "markdown",
     "checksum": "71f98a39a061e5a93f6f335524a1ebc0",
     "grade": false,
     "grade_id": "cell-9bb498af66236623",
     "locked": true,
     "schema_version": 3,
     "solution": false,
     "task": false
    }
   },
   "source": [
    "The functions below implement te Perceptron classifier. Note that in our case the model is completely specified by the weight vector `theta`. We will build the model from scratch, so instead of passing around a Scikit-Learn object, we will instead return `theta` from the build_perceptron model and pass that to the prediction functions. The labels for the examples are -1 or 1. This is a simple preceptron classifier seen in class where the linear separator passes through the origin i.e has offset parameter = 0. Your tasks are as following:\n",
    "\n",
    "### Implement build_perceptron_model\n",
    "\n",
    "The first task is to implement the below method `build_perceptron_model`. It takes a matrix `train_X` of training examples (one per row) and a vector `train_y`. Note that `train_X` could have an arbitrary number of columns (you cannot assume it is the same as the number of features in `iris`. \n",
    "\n",
    "This function should perform the `perceptron` iterative training process described in class and return `theta`, the weight vector, as well as `epoch`, the total number of cycles through the data required during the training process. Break from the training loop when either:\n",
    "1. You reach 200 epochs or \n",
    "2. You cycled through the data without any misclassifications\n",
    "\n",
    "Follow the function spec. Note again, we give you some example sanity tests, but your code will be tested against other tests and looked at overall for correctness."
   ]
  },
  {
   "cell_type": "code",
   "execution_count": 130,
   "metadata": {
    "ExecuteTime": {
     "end_time": "2018-09-05T19:32:46.041101Z",
     "start_time": "2018-09-05T19:32:46.032129Z"
    },
    "deletable": false,
    "nbgrader": {
     "cell_type": "code",
     "checksum": "a2951b1d9c10fe32f529f5c7825d7b92",
     "grade": false,
     "grade_id": "cell-b3043c4f22650482",
     "locked": false,
     "schema_version": 3,
     "solution": true,
     "task": false
    }
   },
   "outputs": [],
   "source": [
    "def build_perceptron_model(train_X, train_y):\n",
    "    '''\n",
    "    Returns 'theta', the weights of the Perceptron\n",
    "    classifier.\n",
    "    \n",
    "    Args:\n",
    "        train_X: (numpy array) the training features,\n",
    "        train_y: (numpy array) the training labels\n",
    "        \n",
    "    Returns:\n",
    "        theta : (numpy array) the weight vector of the trained perceptron model\n",
    "        epochs: (int) the number of cycles through the dataset required to converge.\n",
    "    '''\n",
    "    \n",
    "    \n",
    "    theta = np.zeros_like(train_X[0])\n",
    "    iter_count = 0\n",
    "    epochs = 1\n",
    "    \n",
    "    \n",
    "    while epochs < 200:\n",
    "        convergence = 0\n",
    "        for i, x in enumerate(train_X):\n",
    "            if (np.dot(x, theta)*train_y[i]) <= 0:\n",
    "                theta = theta + x*  train_y[i]\n",
    "            else:\n",
    "                convergence += 1\n",
    "                \n",
    "        if convergence == len(train_X):\n",
    "            break;\n",
    "            \n",
    "        epochs += 1\n",
    "        \n",
    "    return theta, epochs"
   ]
  },
  {
   "cell_type": "code",
   "execution_count": 131,
   "metadata": {
    "deletable": false,
    "editable": false,
    "nbgrader": {
     "cell_type": "code",
     "checksum": "3baf29e63e6eba83542341657e2d1f3b",
     "grade": true,
     "grade_id": "cell-ca542b08439f17f8",
     "locked": true,
     "points": 1,
     "schema_version": 3,
     "solution": false,
     "task": false
    }
   },
   "outputs": [],
   "source": [
    "# Sanity tests for build_perceptron_model\n",
    "test_x = np.array([[1, 0], [0, 1]])\n",
    "test_y = np.array([1, -1])\n",
    "test_t, test_epochs = build_perceptron_model(test_x, test_y)\n",
    "assert(test_epochs == 2)"
   ]
  },
  {
   "cell_type": "markdown",
   "metadata": {
    "deletable": false,
    "editable": false,
    "nbgrader": {
     "cell_type": "markdown",
     "checksum": "ad1950a7e77f08a09dbb90c9dbb2ed49",
     "grade": false,
     "grade_id": "cell-622db144cdd05998",
     "locked": true,
     "schema_version": 3,
     "solution": false,
     "task": false
    }
   },
   "source": [
    "### Implement the prediction/inference function\n",
    "\n",
    "Below, implement `predict_perceptron` according to the specification. Note that like the Scikit-Learn classes, your class should accept a `np.ndarray` with each row corresponding to an example. It should output a vector of predicted labels. "
   ]
  },
  {
   "cell_type": "code",
   "execution_count": 155,
   "metadata": {
    "deletable": false,
    "nbgrader": {
     "cell_type": "code",
     "checksum": "7d0ee2ce81d393534637c855989435bc",
     "grade": false,
     "grade_id": "cell-03a3733a3d2cca82",
     "locked": false,
     "schema_version": 3,
     "solution": true,
     "task": false
    }
   },
   "outputs": [],
   "source": [
    "def predict_perceptron(theta: np.ndarray, data_X : np.ndarray):\n",
    "    '''\n",
    "    Predicts the labels on the data 'data_x' \n",
    "    using a perceptron with weights defined by 'theta'\n",
    "    '''\n",
    "    predicted_y = np.zeros((data_X.shape[0]))\n",
    "    \n",
    "    for i, x in enumerate(data_X):\n",
    "        \n",
    "        summ = np.dot(data_X[i], theta)\n",
    "        \n",
    "        if summ > 0:\n",
    "            predicted_y[i] = 1\n",
    "        else:\n",
    "            predicted_y[i] = -1\n",
    "        \n",
    "    return predicted_y"
   ]
  },
  {
   "cell_type": "code",
   "execution_count": 156,
   "metadata": {
    "deletable": false,
    "editable": false,
    "nbgrader": {
     "cell_type": "code",
     "checksum": "bf6112b5299f24da47cd97d14c8d4eda",
     "grade": true,
     "grade_id": "cell-d10a35977eca8d9c",
     "locked": true,
     "points": 1,
     "schema_version": 3,
     "solution": false,
     "task": false
    }
   },
   "outputs": [],
   "source": [
    "# Sanity tests for predict_perceptron\n",
    "test_x = np.array([[1, 0], [0, 1]])\n",
    "test_y = np.array([1, -1])\n",
    "test_valid_x = np.array(([5, 0], [0, 10]))\n",
    "test_t, test_epochs = build_perceptron_model(test_x, test_y)\n",
    "test_pred_y = predict_perceptron(test_t, test_valid_x)\n",
    "assert(test_epochs == 2)"
   ]
  },
  {
   "cell_type": "markdown",
   "metadata": {
    "deletable": false,
    "editable": false,
    "nbgrader": {
     "cell_type": "markdown",
     "checksum": "642a0a834cd4e928fc0c0d732b0ec0d9",
     "grade": false,
     "grade_id": "cell-07a3ab8231191261",
     "locked": true,
     "schema_version": 3,
     "solution": false,
     "task": false
    }
   },
   "source": [
    "### Implement the get_margin function\n",
    "\n",
    "Below, implement a function which acccepts a `theta` weight vector for the perceptron model and a set of training examples `train_X`. It should return the \"margin\" of the classifier as we defined in class. "
   ]
  },
  {
   "cell_type": "code",
   "execution_count": 157,
   "metadata": {
    "deletable": false,
    "nbgrader": {
     "cell_type": "code",
     "checksum": "f01a67d05d0898023be06f4e2d443445",
     "grade": false,
     "grade_id": "cell-bfa1c99251bd5d61",
     "locked": false,
     "schema_version": 3,
     "solution": true,
     "task": false
    }
   },
   "outputs": [],
   "source": [
    "def get_margin(theta: np.ndarray, train_X, train_y):\n",
    "    '''\n",
    "    Returns the geometric margin of the classifier on the given \n",
    "    training set. 'train_X' is assumed to be the same 'train_X'\n",
    "    used in the 'build_perceptron_model' function.\n",
    "    \n",
    "    args:\n",
    "        theta: np.ndarray: weight vector for perceptron\n",
    "        train_X: the np.ndarray representing the feature vectors. \n",
    "    '''\n",
    "    theta_normalized = np.linalg.norm(theta)\n",
    "    gamma = []\n",
    "    \n",
    "    for i, x in enumerate(train_X):\n",
    "        gamma.append(np.dot(theta, x) * train_y[i])\n",
    "    \n",
    "    \n",
    "    return min(gamma/theta_normalized)"
   ]
  },
  {
   "cell_type": "code",
   "execution_count": 158,
   "metadata": {
    "deletable": false,
    "editable": false,
    "nbgrader": {
     "cell_type": "code",
     "checksum": "05aa07a875aacf5d015603d50fb8dde3",
     "grade": true,
     "grade_id": "cell-b885f1fe338d5f50",
     "locked": true,
     "points": 1,
     "schema_version": 3,
     "solution": false,
     "task": false
    }
   },
   "outputs": [
    {
     "name": "stdout",
     "output_type": "stream",
     "text": [
      "0.7071067811865475\n"
     ]
    }
   ],
   "source": [
    "# Sanity checks for perceptron.\n",
    "# Sanity tests for predict_perceptron\n",
    "test_x = np.array([[1, 0], [0, 1]])\n",
    "test_y = np.array([1, -1])\n",
    "test_valid_x = np.array(([5, 0], [0, 10]))\n",
    "test_t, test_epochs = build_perceptron_model(test_x, test_y)\n",
    "margin = get_margin(test_t, test_x, test_y)\n",
    "print(margin)\n",
    "assert(margin < 1)"
   ]
  },
  {
   "cell_type": "code",
   "execution_count": 159,
   "metadata": {
    "ExecuteTime": {
     "end_time": "2018-09-05T19:32:46.502733Z",
     "start_time": "2018-09-05T19:32:46.481827Z"
    },
    "deletable": false,
    "editable": false,
    "nbgrader": {
     "cell_type": "code",
     "checksum": "e02db9529056cd7e28706293cd026024",
     "grade": true,
     "grade_id": "cell-e37c3e2ebdc66804",
     "locked": true,
     "points": 2,
     "schema_version": 3,
     "solution": false,
     "task": false
    }
   },
   "outputs": [],
   "source": [
    "# Do not remove this cell.\n"
   ]
  },
  {
   "cell_type": "markdown",
   "metadata": {
    "deletable": false,
    "editable": false,
    "nbgrader": {
     "cell_type": "markdown",
     "checksum": "6c84b029486e9b47e4d357d550723182",
     "grade": false,
     "grade_id": "cell-d82633b75cc1fea5",
     "locked": true,
     "schema_version": 3,
     "solution": false,
     "task": false
    }
   },
   "source": [
    "### Evaluating Perceptron\n",
    "\n",
    "Now, we are going to using `IrisM` dataset to train a perceptron using `Perceptron` class.\n",
    "\n",
    "**Part A:** From class we know that this data is linearly separable but the separator does not pass through the origin. Therefore you will need to follow the technique used in lecture to further pre-process the data to be linearly separable through the origin: for each data point, add an additional feature, set to a constant value (please use the value 1 for consistency)."
   ]
  },
  {
   "cell_type": "code",
   "execution_count": 160,
   "metadata": {
    "ExecuteTime": {
     "end_time": "2018-09-07T00:04:31.354628Z",
     "start_time": "2018-09-07T00:04:31.293534Z"
    },
    "deletable": false,
    "nbgrader": {
     "cell_type": "code",
     "checksum": "ca19dad46f9758c82ebf04206b51911d",
     "grade": false,
     "grade_id": "cell-a00bb959ff71ea96",
     "locked": false,
     "schema_version": 3,
     "solution": true,
     "task": false
    }
   },
   "outputs": [],
   "source": [
    "def append_constant_feature(train_X):\n",
    "    '''\n",
    "    Takes a dataset (less labels) 'train_X' and returns a \n",
    "    modified version of the dataset with another feature set to a constant '1'\n",
    "    '''\n",
    "    modified_dataset = []\n",
    "    \n",
    "    \n",
    "    for i, x in enumerate(train_X):\n",
    "        modified_dataset.append(list(train_X[i]))\n",
    "        modified_dataset[i].append(1)\n",
    "        \n",
    "    \n",
    "    return np.array(modified_dataset)"
   ]
  },
  {
   "cell_type": "code",
   "execution_count": 161,
   "metadata": {
    "deletable": false,
    "editable": false,
    "nbgrader": {
     "cell_type": "code",
     "checksum": "cb9e42bab62161f946952e2c1955a02c",
     "grade": true,
     "grade_id": "cell-6594234132565146",
     "locked": true,
     "points": 1,
     "schema_version": 3,
     "solution": false,
     "task": false
    }
   },
   "outputs": [],
   "source": [
    "### Sanity check (note that this will expose problems in your \n",
    "# previous functions if they can't except arbitrary number of features)\n",
    "# You should converge in less than 100 epochs.\n",
    "test_x = np.array([[0, 10], [0, 5]])\n",
    "test_y = np.array([1, -1])\n",
    "test_valid_x = np.array(([5, 0], [0, 10]))\n",
    "test_x = append_constant_feature(test_x)\n",
    "assert(test_x.shape[1] == 3)\n",
    "test_t, test_epochs = build_perceptron_model(test_x, test_y)\n",
    "assert(test_epochs < 100)"
   ]
  },
  {
   "cell_type": "markdown",
   "metadata": {
    "deletable": false,
    "editable": false,
    "nbgrader": {
     "cell_type": "markdown",
     "checksum": "9f54b1291b7d8602425aae2c9a1c5914",
     "grade": false,
     "grade_id": "cell-e32ae9921dad4793",
     "locked": true,
     "schema_version": 3,
     "solution": false,
     "task": false
    }
   },
   "source": [
    "### Train Perceptron on the Iris Dataset\n",
    "\n",
    "Now that we have the ability to produce a modified dataset, train the Perceptron classifier on the iris dataset loaded in the class above. \n",
    "\n",
    "Have your code print out the number of epochs (number of times it cycled through the entire dataset) until convergence. "
   ]
  },
  {
   "cell_type": "code",
   "execution_count": 162,
   "metadata": {
    "deletable": false,
    "nbgrader": {
     "cell_type": "code",
     "checksum": "8813d56120d040ba1105ce805ad5fcdb",
     "grade": true,
     "grade_id": "cell-348aa0b0301abdcd",
     "locked": false,
     "points": 1,
     "schema_version": 3,
     "solution": true,
     "task": false
    }
   },
   "outputs": [
    {
     "name": "stdout",
     "output_type": "stream",
     "text": [
      "13\n"
     ]
    }
   ],
   "source": [
    "x_train_modified = append_constant_feature(iris.train_x)\n",
    "\n",
    "theta, epochs = build_perceptron_model(x_train_modified, iris.train_y)\n",
    "print(epochs)"
   ]
  },
  {
   "cell_type": "markdown",
   "metadata": {
    "deletable": false,
    "editable": false,
    "nbgrader": {
     "cell_type": "markdown",
     "checksum": "561a9b7bb4f117dbd97cbbd9ae1f0376",
     "grade": false,
     "grade_id": "cell-90be9f188ef7f133",
     "locked": true,
     "schema_version": 3,
     "solution": false,
     "task": false
    }
   },
   "source": [
    "What is the angle between Perceptron's classification vector `theta` found above and vector $(1, 0, 1)^T$? Report your answer in radians."
   ]
  },
  {
   "cell_type": "code",
   "execution_count": 163,
   "metadata": {
    "ExecuteTime": {
     "end_time": "2018-09-05T19:35:08.940171Z",
     "start_time": "2018-09-05T19:35:08.928124Z"
    },
    "deletable": false,
    "nbgrader": {
     "cell_type": "code",
     "checksum": "6538b03939a3db79b627e8b7d85cd0fe",
     "grade": true,
     "grade_id": "cell-9317241786fa010a",
     "locked": false,
     "points": 1,
     "schema_version": 3,
     "solution": true,
     "task": false
    }
   },
   "outputs": [
    {
     "data": {
      "text/plain": [
       "1.827544996055202"
      ]
     },
     "execution_count": 163,
     "metadata": {},
     "output_type": "execute_result"
    }
   ],
   "source": [
    "vector = np.array([1,0,1])\n",
    "trans = np.transpose(vector)\n",
    "np.arccos(np.dot(theta, trans)/(np.linalg.norm(theta)*np.linalg.norm(trans)))"
   ]
  },
  {
   "cell_type": "markdown",
   "metadata": {
    "deletable": false,
    "editable": false,
    "nbgrader": {
     "cell_type": "markdown",
     "checksum": "f06990ac2f9cd8504442deb364076f37",
     "grade": false,
     "grade_id": "cell-18c43270c41d8cb0",
     "locked": true,
     "schema_version": 3,
     "solution": false,
     "task": false
    }
   },
   "source": [
    "Report the accuracy on the test set. Be sure to do the same feature modifications to the test set as the training set. (Reuse the theta vector from above, don't re-fit the model in this cell.)"
   ]
  },
  {
   "cell_type": "code",
   "execution_count": 164,
   "metadata": {
    "ExecuteTime": {
     "end_time": "2018-09-05T19:33:12.282515Z",
     "start_time": "2018-09-05T19:33:12.274810Z"
    },
    "deletable": false,
    "nbgrader": {
     "cell_type": "code",
     "checksum": "c71e75c356fd1feaec16536098e7fb26",
     "grade": true,
     "grade_id": "cell-38c9bab61f380dee",
     "locked": false,
     "points": 1,
     "schema_version": 3,
     "solution": true,
     "task": false
    }
   },
   "outputs": [
    {
     "name": "stdout",
     "output_type": "stream",
     "text": [
      "0.9789473684210527\n"
     ]
    }
   ],
   "source": [
    "x_test_modified = append_constant_feature(iris.test_x)\n",
    "\n",
    "predicted = predict_perceptron(theta, x_test_modified)\n",
    "\n",
    "num_correct = 0\n",
    "for i in range(len(predicted)):\n",
    "    if predicted[i] == iris.test_y[i]:\n",
    "        num_correct +=1\n",
    "print(num_correct/len(predicted))"
   ]
  },
  {
   "cell_type": "markdown",
   "metadata": {
    "deletable": false,
    "editable": false,
    "nbgrader": {
     "cell_type": "markdown",
     "checksum": "64acf85d7d50af1d5320c1873d9b67d9",
     "grade": false,
     "grade_id": "cell-c1b79fbbeafc9493",
     "locked": true,
     "schema_version": 3,
     "solution": false,
     "task": false
    }
   },
   "source": [
    "Report the geometric margins of your classifier with respect to the `IrisM` dataset used. Recall that the distance of a point $x_t$ from the line/surface $\\theta^T x = 0$ is $|\\frac{\\theta^Tx_t}{||x||}|$"
   ]
  },
  {
   "cell_type": "code",
   "execution_count": 168,
   "metadata": {
    "ExecuteTime": {
     "end_time": "2018-09-05T19:35:18.991693Z",
     "start_time": "2018-09-05T19:35:18.979383Z"
    },
    "deletable": false,
    "nbgrader": {
     "cell_type": "code",
     "checksum": "4ca1e9451b14ac949c52b4bf2acadba0",
     "grade": true,
     "grade_id": "cell-07dfd22fc8aa5f1c",
     "locked": false,
     "points": 1,
     "schema_version": 3,
     "solution": true,
     "task": false
    }
   },
   "outputs": [
    {
     "name": "stdout",
     "output_type": "stream",
     "text": [
      "0.11653121509228849\n"
     ]
    }
   ],
   "source": [
    "margin = get_margin(theta, x_train_modified ,iris.train_y)\n",
    "print(margin)"
   ]
  }
 ],
 "metadata": {
  "kernelspec": {
   "display_name": "Python 3",
   "language": "python",
   "name": "python3"
  },
  "language_info": {
   "codemirror_mode": {
    "name": "ipython",
    "version": 3
   },
   "file_extension": ".py",
   "mimetype": "text/x-python",
   "name": "python",
   "nbconvert_exporter": "python",
   "pygments_lexer": "ipython3",
   "version": "3.7.1"
  },
  "varInspector": {
   "cols": {
    "lenName": 16,
    "lenType": 16,
    "lenVar": 40
   },
   "kernels_config": {
    "python": {
     "delete_cmd_postfix": "",
     "delete_cmd_prefix": "del ",
     "library": "var_list.py",
     "varRefreshCmd": "print(var_dic_list())"
    },
    "r": {
     "delete_cmd_postfix": ") ",
     "delete_cmd_prefix": "rm(",
     "library": "var_list.r",
     "varRefreshCmd": "cat(var_dic_list()) "
    }
   },
   "types_to_exclude": [
    "module",
    "function",
    "builtin_function_or_method",
    "instance",
    "_Feature"
   ],
   "window_display": false
  }
 },
 "nbformat": 4,
 "nbformat_minor": 2
}
